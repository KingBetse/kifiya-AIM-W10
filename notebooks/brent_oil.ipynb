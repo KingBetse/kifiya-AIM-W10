{
 "cells": [
  {
   "cell_type": "code",
   "execution_count": 107,
   "metadata": {},
   "outputs": [],
   "source": [
    "import os\n",
    "import pandas as pd\n",
    "import numpy as np\n",
    "import seaborn as sns\n",
    "import matplotlib.pyplot as plt"
   ]
  },
  {
   "cell_type": "markdown",
   "metadata": {},
   "source": [
    "## Load Data"
   ]
  },
  {
   "cell_type": "code",
   "execution_count": 108,
   "metadata": {},
   "outputs": [
    {
     "name": "stdout",
     "output_type": "stream",
     "text": [
      "c:\\Users\\King Betse\\Desktop\\kifiya-AIM-W10\\notebooks\n"
     ]
    },
    {
     "data": {
      "text/html": [
       "<div>\n",
       "<style scoped>\n",
       "    .dataframe tbody tr th:only-of-type {\n",
       "        vertical-align: middle;\n",
       "    }\n",
       "\n",
       "    .dataframe tbody tr th {\n",
       "        vertical-align: top;\n",
       "    }\n",
       "\n",
       "    .dataframe thead th {\n",
       "        text-align: right;\n",
       "    }\n",
       "</style>\n",
       "<table border=\"1\" class=\"dataframe\">\n",
       "  <thead>\n",
       "    <tr style=\"text-align: right;\">\n",
       "      <th></th>\n",
       "      <th>Date</th>\n",
       "      <th>Price</th>\n",
       "    </tr>\n",
       "  </thead>\n",
       "  <tbody>\n",
       "    <tr>\n",
       "      <th>0</th>\n",
       "      <td>20-May-87</td>\n",
       "      <td>18.63</td>\n",
       "    </tr>\n",
       "    <tr>\n",
       "      <th>1</th>\n",
       "      <td>21-May-87</td>\n",
       "      <td>18.45</td>\n",
       "    </tr>\n",
       "    <tr>\n",
       "      <th>2</th>\n",
       "      <td>22-May-87</td>\n",
       "      <td>18.55</td>\n",
       "    </tr>\n",
       "    <tr>\n",
       "      <th>3</th>\n",
       "      <td>25-May-87</td>\n",
       "      <td>18.60</td>\n",
       "    </tr>\n",
       "    <tr>\n",
       "      <th>4</th>\n",
       "      <td>26-May-87</td>\n",
       "      <td>18.63</td>\n",
       "    </tr>\n",
       "  </tbody>\n",
       "</table>\n",
       "</div>"
      ],
      "text/plain": [
       "        Date  Price\n",
       "0  20-May-87  18.63\n",
       "1  21-May-87  18.45\n",
       "2  22-May-87  18.55\n",
       "3  25-May-87  18.60\n",
       "4  26-May-87  18.63"
      ]
     },
     "execution_count": 108,
     "metadata": {},
     "output_type": "execute_result"
    }
   ],
   "source": [
    "directory = os.getcwd()\n",
    "print(directory)\n",
    "df = pd.read_csv(\"../data/BrentOilPrices.csv\")\n",
    "df.head()"
   ]
  },
  {
   "cell_type": "markdown",
   "metadata": {},
   "source": [
    "## Data Cleaning"
   ]
  },
  {
   "cell_type": "markdown",
   "metadata": {},
   "source": [
    "### Removing Duplicate"
   ]
  },
  {
   "cell_type": "code",
   "execution_count": 109,
   "metadata": {},
   "outputs": [
    {
     "data": {
      "text/html": [
       "<div>\n",
       "<style scoped>\n",
       "    .dataframe tbody tr th:only-of-type {\n",
       "        vertical-align: middle;\n",
       "    }\n",
       "\n",
       "    .dataframe tbody tr th {\n",
       "        vertical-align: top;\n",
       "    }\n",
       "\n",
       "    .dataframe thead th {\n",
       "        text-align: right;\n",
       "    }\n",
       "</style>\n",
       "<table border=\"1\" class=\"dataframe\">\n",
       "  <thead>\n",
       "    <tr style=\"text-align: right;\">\n",
       "      <th></th>\n",
       "      <th>Date</th>\n",
       "      <th>Price</th>\n",
       "    </tr>\n",
       "  </thead>\n",
       "  <tbody>\n",
       "    <tr>\n",
       "      <th>0</th>\n",
       "      <td>20-May-87</td>\n",
       "      <td>18.63</td>\n",
       "    </tr>\n",
       "    <tr>\n",
       "      <th>1</th>\n",
       "      <td>21-May-87</td>\n",
       "      <td>18.45</td>\n",
       "    </tr>\n",
       "    <tr>\n",
       "      <th>2</th>\n",
       "      <td>22-May-87</td>\n",
       "      <td>18.55</td>\n",
       "    </tr>\n",
       "    <tr>\n",
       "      <th>3</th>\n",
       "      <td>25-May-87</td>\n",
       "      <td>18.60</td>\n",
       "    </tr>\n",
       "    <tr>\n",
       "      <th>4</th>\n",
       "      <td>26-May-87</td>\n",
       "      <td>18.63</td>\n",
       "    </tr>\n",
       "  </tbody>\n",
       "</table>\n",
       "</div>"
      ],
      "text/plain": [
       "        Date  Price\n",
       "0  20-May-87  18.63\n",
       "1  21-May-87  18.45\n",
       "2  22-May-87  18.55\n",
       "3  25-May-87  18.60\n",
       "4  26-May-87  18.63"
      ]
     },
     "execution_count": 109,
     "metadata": {},
     "output_type": "execute_result"
    }
   ],
   "source": [
    "df.drop_duplicates(inplace=True)\n",
    "\n",
    "df.head()"
   ]
  },
  {
   "cell_type": "markdown",
   "metadata": {},
   "source": [
    "### Handling Missing Values\n"
   ]
  },
  {
   "cell_type": "code",
   "execution_count": 110,
   "metadata": {},
   "outputs": [
    {
     "data": {
      "text/plain": [
       "Date     0\n",
       "Price    0\n",
       "dtype: int64"
      ]
     },
     "execution_count": 110,
     "metadata": {},
     "output_type": "execute_result"
    }
   ],
   "source": [
    "missing_values = df.isnull().sum()\n",
    "missing_values\n"
   ]
  },
  {
   "cell_type": "markdown",
   "metadata": {},
   "source": [
    "### Drop rows with Negative Prices\n"
   ]
  },
  {
   "cell_type": "code",
   "execution_count": 111,
   "metadata": {},
   "outputs": [
    {
     "data": {
      "text/html": [
       "<div>\n",
       "<style scoped>\n",
       "    .dataframe tbody tr th:only-of-type {\n",
       "        vertical-align: middle;\n",
       "    }\n",
       "\n",
       "    .dataframe tbody tr th {\n",
       "        vertical-align: top;\n",
       "    }\n",
       "\n",
       "    .dataframe thead th {\n",
       "        text-align: right;\n",
       "    }\n",
       "</style>\n",
       "<table border=\"1\" class=\"dataframe\">\n",
       "  <thead>\n",
       "    <tr style=\"text-align: right;\">\n",
       "      <th></th>\n",
       "      <th>Date</th>\n",
       "      <th>Price</th>\n",
       "    </tr>\n",
       "  </thead>\n",
       "  <tbody>\n",
       "    <tr>\n",
       "      <th>0</th>\n",
       "      <td>20-May-87</td>\n",
       "      <td>18.63</td>\n",
       "    </tr>\n",
       "    <tr>\n",
       "      <th>1</th>\n",
       "      <td>21-May-87</td>\n",
       "      <td>18.45</td>\n",
       "    </tr>\n",
       "    <tr>\n",
       "      <th>2</th>\n",
       "      <td>22-May-87</td>\n",
       "      <td>18.55</td>\n",
       "    </tr>\n",
       "    <tr>\n",
       "      <th>3</th>\n",
       "      <td>25-May-87</td>\n",
       "      <td>18.60</td>\n",
       "    </tr>\n",
       "    <tr>\n",
       "      <th>4</th>\n",
       "      <td>26-May-87</td>\n",
       "      <td>18.63</td>\n",
       "    </tr>\n",
       "  </tbody>\n",
       "</table>\n",
       "</div>"
      ],
      "text/plain": [
       "        Date  Price\n",
       "0  20-May-87  18.63\n",
       "1  21-May-87  18.45\n",
       "2  22-May-87  18.55\n",
       "3  25-May-87  18.60\n",
       "4  26-May-87  18.63"
      ]
     },
     "execution_count": 111,
     "metadata": {},
     "output_type": "execute_result"
    }
   ],
   "source": [
    "\n",
    "# df = df[df['Price'] >= 0]\n",
    "df.head()"
   ]
  },
  {
   "cell_type": "markdown",
   "metadata": {},
   "source": [
    "### Handling Outliner"
   ]
  },
  {
   "cell_type": "code",
   "execution_count": 112,
   "metadata": {},
   "outputs": [],
   "source": [
    "from scipy import stats\n",
    "df = df[(np.abs(stats.zscore(df['Price'])) < 3)]\n",
    "upper_limit = df['Price'].quantile(0.95)\n",
    "lower_limit = df['Price'].quantile(0.05)\n",
    "df['Price'] = np.where(df['Price'] > upper_limit, upper_limit, df['Price'])\n",
    "df['Price'] = np.where(df['Price'] < lower_limit, lower_limit, df['Price'])"
   ]
  },
  {
   "cell_type": "markdown",
   "metadata": {},
   "source": [
    "###  Scale numerical features"
   ]
  },
  {
   "cell_type": "code",
   "execution_count": 113,
   "metadata": {},
   "outputs": [],
   "source": [
    "# from sklearn.preprocessing import StandardScaler\n",
    "\n",
    "# scaler = StandardScaler()\n",
    "# df[['Price']] = scaler.fit_transform(df[['Price']])\n",
    "\n",
    "# print(df.info())\n",
    "# print(df.describe())"
   ]
  },
  {
   "cell_type": "markdown",
   "metadata": {},
   "source": [
    "### Visualize Price Trends\n"
   ]
  },
  {
   "cell_type": "code",
   "execution_count": 114,
   "metadata": {},
   "outputs": [
    {
     "name": "stderr",
     "output_type": "stream",
     "text": [
      "C:\\Users\\King Betse\\AppData\\Local\\Temp\\ipykernel_34552\\4223071434.py:4: UserWarning: Could not infer format, so each element will be parsed individually, falling back to `dateutil`. To ensure parsing is consistent and as-expected, please specify a format.\n",
      "  df['Date'] = pd.to_datetime(df['Date'])\n"
     ]
    },
    {
     "data": {
      "image/png": "[encoded data removed]",
      "text/plain": [
       "<Figure size 1200x600 with 1 Axes>"
      ]
     },
     "metadata": {},
     "output_type": "display_data"
    }
   ],
   "source": [
    "import matplotlib.pyplot as plt\n",
    "\n",
    "# Convert 'date' column to datetime if necessary\n",
    "df['Date'] = pd.to_datetime(df['Date'])\n",
    "\n",
    "# Plotting the price trend\n",
    "plt.figure(figsize=(12, 6))\n",
    "plt.plot(df['Date'], df['Price'], label='Brent Oil Price', color='blue')\n",
    "plt.title('Brent Oil Price Over Time')\n",
    "plt.xlabel('Date')\n",
    "plt.ylabel('Price (USD)')\n",
    "plt.legend()\n",
    "plt.grid()\n",
    "plt.show()"
   ]
  },
  {
   "cell_type": "markdown",
   "metadata": {},
   "source": [
    "### Unemployment Rates and GDP"
   ]
  },
  {
   "cell_type": "code",
   "execution_count": 115,
   "metadata": {},
   "outputs": [
    {
     "data": {
      "text/html": [
       "<div>\n",
       "<style scoped>\n",
       "    .dataframe tbody tr th:only-of-type {\n",
       "        vertical-align: middle;\n",
       "    }\n",
       "\n",
       "    .dataframe tbody tr th {\n",
       "        vertical-align: top;\n",
       "    }\n",
       "\n",
       "    .dataframe thead th {\n",
       "        text-align: right;\n",
       "    }\n",
       "</style>\n",
       "<table border=\"1\" class=\"dataframe\">\n",
       "  <thead>\n",
       "    <tr style=\"text-align: right;\">\n",
       "      <th></th>\n",
       "      <th>Date</th>\n",
       "      <th>Brent_Oil_Price</th>\n",
       "      <th>Unemployment_Rate</th>\n",
       "      <th>GDP_Billion</th>\n",
       "    </tr>\n",
       "  </thead>\n",
       "  <tbody>\n",
       "    <tr>\n",
       "      <th>0</th>\n",
       "      <td>1987-07-01</td>\n",
       "      <td>18.98</td>\n",
       "      <td>6.1</td>\n",
       "      <td>4884.555</td>\n",
       "    </tr>\n",
       "    <tr>\n",
       "      <th>1</th>\n",
       "      <td>1987-10-01</td>\n",
       "      <td>18.50</td>\n",
       "      <td>6.0</td>\n",
       "      <td>5007.994</td>\n",
       "    </tr>\n",
       "    <tr>\n",
       "      <th>2</th>\n",
       "      <td>1988-07-01</td>\n",
       "      <td>14.50</td>\n",
       "      <td>5.4</td>\n",
       "      <td>5282.835</td>\n",
       "    </tr>\n",
       "    <tr>\n",
       "      <th>3</th>\n",
       "      <td>1990-10-01</td>\n",
       "      <td>38.95</td>\n",
       "      <td>5.9</td>\n",
       "      <td>6004.733</td>\n",
       "    </tr>\n",
       "    <tr>\n",
       "      <th>4</th>\n",
       "      <td>1991-04-01</td>\n",
       "      <td>18.00</td>\n",
       "      <td>6.7</td>\n",
       "      <td>6126.862</td>\n",
       "    </tr>\n",
       "  </tbody>\n",
       "</table>\n",
       "</div>"
      ],
      "text/plain": [
       "        Date  Brent_Oil_Price  Unemployment_Rate  GDP_Billion\n",
       "0 1987-07-01            18.98                6.1     4884.555\n",
       "1 1987-10-01            18.50                6.0     5007.994\n",
       "2 1988-07-01            14.50                5.4     5282.835\n",
       "3 1990-10-01            38.95                5.9     6004.733\n",
       "4 1991-04-01            18.00                6.7     6126.862"
      ]
     },
     "execution_count": 115,
     "metadata": {},
     "output_type": "execute_result"
    }
   ],
   "source": [
    "# Load unemployment rates and GDP\n",
    "unemployment_data = pd.read_csv('../data/UNRATE.csv', parse_dates=['Date'])\n",
    "GDP = pd.read_csv('../data/GDP.csv', parse_dates=['Date'])\n",
    "\n",
    "# Merge Datasets\n",
    "merged_data = pd.merge(df, unemployment_data, on='Date', how='inner')\n",
    "merged_data = pd.merge(merged_data, GDP, on='Date', how='inner')\n",
    "merged_data.rename(columns={'Price': 'Brent_Oil_Price', 'UNRATE': 'Unemployment_Rate','GDP': 'GDP_Billion'}, inplace=True)\n",
    "merged_data.head()"
   ]
  },
  {
   "cell_type": "markdown",
   "metadata": {},
   "source": []
  },
  {
   "cell_type": "code",
   "execution_count": 116,
   "metadata": {},
   "outputs": [
    {
     "ename": "IndexError",
     "evalue": "list index out of range",
     "output_type": "error",
     "traceback": [
      "\u001b[1;31m---------------------------------------------------------------------------\u001b[0m",
      "\u001b[1;31mIndexError\u001b[0m                                Traceback (most recent call last)",
      "Cell \u001b[1;32mIn[116], line 25\u001b[0m\n\u001b[0;32m     23\u001b[0m \u001b[38;5;66;03m# Add legends for both y-axes\u001b[39;00m\n\u001b[0;32m     24\u001b[0m plt\u001b[38;5;241m.\u001b[39mlegend(loc\u001b[38;5;241m=\u001b[39m\u001b[38;5;124m'\u001b[39m\u001b[38;5;124mupper left\u001b[39m\u001b[38;5;124m'\u001b[39m)\n\u001b[1;32m---> 25\u001b[0m plt\u001b[38;5;241m.\u001b[39mgca()\u001b[38;5;241m.\u001b[39mget_lines()[\u001b[38;5;241m2\u001b[39m]\u001b[38;5;241m.\u001b[39mset_label(\u001b[38;5;124m'\u001b[39m\u001b[38;5;124mGDP (Billion USD)\u001b[39m\u001b[38;5;124m'\u001b[39m)  \u001b[38;5;66;03m# Add GDP to the legend\u001b[39;00m\n\u001b[0;32m     26\u001b[0m plt\u001b[38;5;241m.\u001b[39mlegend(loc\u001b[38;5;241m=\u001b[39m\u001b[38;5;124m'\u001b[39m\u001b[38;5;124mupper left\u001b[39m\u001b[38;5;124m'\u001b[39m)\n\u001b[0;32m     28\u001b[0m \u001b[38;5;66;03m# Grid and show plot\u001b[39;00m\n",
      "\u001b[1;31mIndexError\u001b[0m: list index out of range"
     ]
    },
    {
     "data": {
      "image/png": "[encoded data removed]",
      "text/plain": [
       "<Figure size 1400x700 with 2 Axes>"
      ]
     },
     "metadata": {},
     "output_type": "display_data"
    }
   ],
   "source": [
    "# Plotting\n",
    "plt.figure(figsize=(14, 7))\n",
    "\n",
    "# Plot Brent Oil Prices\n",
    "plt.plot(merged_data['Date'], merged_data['Brent_Oil_Price'], label='Brent Oil Price (USD)', color='blue')\n",
    "\n",
    "# Create a secondary y-axis for Unemployment Rate\n",
    "plt.plot(merged_data['Date'], merged_data['Unemployment_Rate'] * 100, label='Unemployment Rate (%)', color='red')  # Scale for better visualization\n",
    "\n",
    "# Create a twin y-axis for GDP\n",
    "plt.twinx()  # Create a second y-axis\n",
    "plt.plot(merged_data['Date'], merged_data['GDP_Billion'], label='GDP (Billion USD)', color='green')\n",
    "\n",
    "# Formatting the y-axes\n",
    "plt.ylabel('Brent Oil Price (USD) / Unemployment Rate (%)')\n",
    "plt.gca().set_ylim(bottom=0)  # Set the lower limit for the primary y-axis\n",
    "plt.ylabel('GDP (Billion USD)')  # Y label for the secondary y-axis\n",
    "\n",
    "# Add titles and labels\n",
    "plt.title('Brent Oil Prices, Unemployment Rates, and GDP Over Time')\n",
    "plt.xlabel('Date')\n",
    "\n",
    "# Add legends for both y-axes\n",
    "plt.legend(loc='upper left')\n",
    "plt.gca().get_lines()[2].set_label('GDP (Billion USD)')  # Add GDP to the legend\n",
    "plt.legend(loc='upper left')\n",
    "\n",
    "# Grid and show plot\n",
    "plt.grid()\n",
    "plt.show()"
   ]
  },
  {
   "cell_type": "markdown",
   "metadata": {},
   "source": [
    "### Exploratory Data Analysis"
   ]
  },
  {
   "cell_type": "markdown",
   "metadata": {},
   "source": [
    "### Seasonality and Trends"
   ]
  },
  {
   "cell_type": "code",
   "execution_count": null,
   "metadata": {},
   "outputs": [
    {
     "name": "stdout",
     "output_type": "stream",
     "text": [
      "Missing values in Brent Oil Price: 0\n"
     ]
    },
    {
     "ename": "ValueError",
     "evalue": "You must specify a period or x must be a pandas object with a PeriodIndex or a DatetimeIndex with a freq not set to None",
     "output_type": "error",
     "traceback": [
      "\u001b[1;31m---------------------------------------------------------------------------\u001b[0m",
      "\u001b[1;31mValueError\u001b[0m                                Traceback (most recent call last)",
      "Cell \u001b[1;32mIn[105], line 23\u001b[0m\n\u001b[0;32m     20\u001b[0m merged_data \u001b[38;5;241m=\u001b[39m merged_data\u001b[38;5;241m.\u001b[39masfreq(\u001b[38;5;124m'\u001b[39m\u001b[38;5;124mD\u001b[39m\u001b[38;5;124m'\u001b[39m)  \u001b[38;5;66;03m# Adjust frequency to 'D' for daily data\u001b[39;00m\n\u001b[0;32m     22\u001b[0m \u001b[38;5;66;03m# Step 3: Decompose the time series\u001b[39;00m\n\u001b[1;32m---> 23\u001b[0m decomposition \u001b[38;5;241m=\u001b[39m seasonal_decompose(merged_data[\u001b[38;5;124m'\u001b[39m\u001b[38;5;124mBrent_Oil_Price\u001b[39m\u001b[38;5;124m'\u001b[39m], model\u001b[38;5;241m=\u001b[39m\u001b[38;5;124m'\u001b[39m\u001b[38;5;124madditive\u001b[39m\u001b[38;5;124m'\u001b[39m)\n\u001b[0;32m     24\u001b[0m decomposition\u001b[38;5;241m.\u001b[39mplot()\n\u001b[0;32m     25\u001b[0m plt\u001b[38;5;241m.\u001b[39mshow()\n",
      "File \u001b[1;32mc:\\ProgramData\\anaconda3\\Lib\\site-packages\\statsmodels\\tsa\\seasonal.py:167\u001b[0m, in \u001b[0;36mseasonal_decompose\u001b[1;34m(x, model, filt, period, two_sided, extrapolate_trend)\u001b[0m\n\u001b[0;32m    165\u001b[0m         period \u001b[38;5;241m=\u001b[39m pfreq\n\u001b[0;32m    166\u001b[0m     \u001b[38;5;28;01melse\u001b[39;00m:\n\u001b[1;32m--> 167\u001b[0m         \u001b[38;5;28;01mraise\u001b[39;00m \u001b[38;5;167;01mValueError\u001b[39;00m(\n\u001b[0;32m    168\u001b[0m             \u001b[38;5;124m\"\u001b[39m\u001b[38;5;124mYou must specify a period or x must be a pandas object with \u001b[39m\u001b[38;5;124m\"\u001b[39m\n\u001b[0;32m    169\u001b[0m             \u001b[38;5;124m\"\u001b[39m\u001b[38;5;124ma PeriodIndex or a DatetimeIndex with a freq not set to None\u001b[39m\u001b[38;5;124m\"\u001b[39m\n\u001b[0;32m    170\u001b[0m         )\n\u001b[0;32m    171\u001b[0m \u001b[38;5;28;01mif\u001b[39;00m x\u001b[38;5;241m.\u001b[39mshape[\u001b[38;5;241m0\u001b[39m] \u001b[38;5;241m<\u001b[39m \u001b[38;5;241m2\u001b[39m \u001b[38;5;241m*\u001b[39m pfreq:\n\u001b[0;32m    172\u001b[0m     \u001b[38;5;28;01mraise\u001b[39;00m \u001b[38;5;167;01mValueError\u001b[39;00m(\n\u001b[0;32m    173\u001b[0m         \u001b[38;5;124mf\u001b[39m\u001b[38;5;124m\"\u001b[39m\u001b[38;5;124mx must have 2 complete cycles requires \u001b[39m\u001b[38;5;132;01m{\u001b[39;00m\u001b[38;5;241m2\u001b[39m\u001b[38;5;250m \u001b[39m\u001b[38;5;241m*\u001b[39m\u001b[38;5;250m \u001b[39mpfreq\u001b[38;5;132;01m}\u001b[39;00m\u001b[38;5;124m \u001b[39m\u001b[38;5;124m\"\u001b[39m\n\u001b[0;32m    174\u001b[0m         \u001b[38;5;124mf\u001b[39m\u001b[38;5;124m\"\u001b[39m\u001b[38;5;124mobservations. x only has \u001b[39m\u001b[38;5;132;01m{\u001b[39;00mx\u001b[38;5;241m.\u001b[39mshape[\u001b[38;5;241m0\u001b[39m]\u001b[38;5;132;01m}\u001b[39;00m\u001b[38;5;124m observation(s)\u001b[39m\u001b[38;5;124m\"\u001b[39m\n\u001b[0;32m    175\u001b[0m     )\n",
      "\u001b[1;31mValueError\u001b[0m: You must specify a period or x must be a pandas object with a PeriodIndex or a DatetimeIndex with a freq not set to None"
     ]
    }
   ],
   "source": [
    "from statsmodels.tsa.seasonal import seasonal_decompose\n",
    "\n",
    "\n",
    "# Ensure 'Brent_Oil_Price' is numeric\n",
    "merged_data['Brent_Oil_Price'] = pd.to_numeric(merged_data['Brent_Oil_Price'], errors='coerce')\n",
    "\n",
    "# Step 1: Check for missing values\n",
    "missing_values = merged_data['Brent_Oil_Price'].isnull().sum()\n",
    "print(f'Missing values in Brent Oil Price: {missing_values}')\n",
    "\n",
    "# Step 2: Handle missing values\n",
    "if missing_values > 0:\n",
    "    # Drop rows with missing values\n",
    "    merged_data.dropna(subset=['Brent_Oil_Price'], inplace=True)\n",
    "\n",
    "# Ensure the index is a DatetimeIndex\n",
    "merged_data.index = pd.to_datetime(merged_data.index)\n",
    "\n",
    "# Set the frequency if it's not already set\n",
    "merged_data = merged_data.asfreq('D')  # Adjust frequency to 'D' for daily data\n",
    "\n",
    "# Step 3: Decompose the time series\n",
    "decomposition = seasonal_decompose(merged_data['Brent_Oil_Price'], model='additive')\n",
    "decomposition.plot()\n",
    "plt.show()"
   ]
  },
  {
   "cell_type": "markdown",
   "metadata": {},
   "source": [
    "### Time Series Modeling"
   ]
  },
  {
   "cell_type": "code",
   "execution_count": 117,
   "metadata": {},
   "outputs": [
    {
     "name": "stdout",
     "output_type": "stream",
     "text": [
      "ADF Statistic (Differenced): -9.280651049174086\n",
      "p-value (Differenced): 1.2538077031478522e-15\n"
     ]
    }
   ],
   "source": [
    "# Differencing\n",
    "merged_data['Brent_Oil_Price_diff'] = merged_data['Brent_Oil_Price'].diff()\n",
    "\n",
    "# Drop NaN values created by differencing\n",
    "diff_data = merged_data['Brent_Oil_Price_diff'].dropna()\n",
    "\n",
    "# ADF Test on differenced data\n",
    "from statsmodels.tsa.stattools import adfuller\n",
    "\n",
    "adf_result_diff = adfuller(diff_data)\n",
    "print('ADF Statistic (Differenced):', adf_result_diff[0])\n",
    "print('p-value (Differenced):', adf_result_diff[1])"
   ]
  },
  {
   "cell_type": "markdown",
   "metadata": {},
   "source": [
    "### Vector Autoregression"
   ]
  },
  {
   "cell_type": "code",
   "execution_count": 118,
   "metadata": {},
   "outputs": [
    {
     "name": "stdout",
     "output_type": "stream",
     "text": [
      "  Summary of Regression Results   \n",
      "==================================\n",
      "Model:                         VAR\n",
      "Method:                        OLS\n",
      "Date:           Mon, 04, Nov, 2024\n",
      "Time:                     15:07:38\n",
      "--------------------------------------------------------------------\n",
      "No. of Equations:         3.00000    BIC:                    20.7524\n",
      "Nobs:                     58.0000    HQIC:                   17.7595\n",
      "Log likelihood:          -568.543    FPE:                4.27023e+07\n",
      "AIC:                      15.8499    Det(Omega_mle):     7.40688e+06\n",
      "--------------------------------------------------------------------\n",
      "Results for equation Brent_Oil_Price\n",
      "========================================================================================\n",
      "                           coefficient       std. error           t-stat            prob\n",
      "----------------------------------------------------------------------------------------\n",
      "const                         6.232782        15.252920            0.409           0.683\n",
      "L1.Brent_Oil_Price            0.032272         0.308244            0.105           0.917\n",
      "L1.Unemployment_Rate          5.716120         3.083371            1.854           0.064\n",
      "L1.GDP_Billion                0.009442         0.010393            0.908           0.364\n",
      "L2.Brent_Oil_Price            0.033715         0.351687            0.096           0.924\n",
      "L2.Unemployment_Rate         -1.926452         3.969922           -0.485           0.627\n",
      "L2.GDP_Billion               -0.003716         0.012762           -0.291           0.771\n",
      "L3.Brent_Oil_Price            0.009491         0.275820            0.034           0.973\n",
      "L3.Unemployment_Rate          1.760796         4.085748            0.431           0.666\n",
      "L3.GDP_Billion               -0.019812         0.012330           -1.607           0.108\n",
      "L4.Brent_Oil_Price            0.613195         0.290092            2.114           0.035\n",
      "L4.Unemployment_Rate          1.767397         3.711708            0.476           0.634\n",
      "L4.GDP_Billion               -0.030340         0.011487           -2.641           0.008\n",
      "L5.Brent_Oil_Price           -0.181108         0.348271           -0.520           0.603\n",
      "L5.Unemployment_Rate         -3.456816         4.141651           -0.835           0.404\n",
      "L5.GDP_Billion               -0.006186         0.013668           -0.453           0.651\n",
      "L6.Brent_Oil_Price            0.008359         0.405532            0.021           0.984\n",
      "L6.Unemployment_Rate          2.735917         3.918584            0.698           0.485\n",
      "L6.GDP_Billion               -0.011815         0.013640           -0.866           0.386\n",
      "L7.Brent_Oil_Price           -0.185180         0.448523           -0.413           0.680\n",
      "L7.Unemployment_Rate          2.395456         3.783371            0.633           0.527\n",
      "L7.GDP_Billion                0.005120         0.013291            0.385           0.700\n",
      "L8.Brent_Oil_Price           -0.127242         0.419525           -0.303           0.762\n",
      "L8.Unemployment_Rate         -3.841532         8.029636           -0.478           0.632\n",
      "L8.GDP_Billion                0.000769         0.012636            0.061           0.951\n",
      "L9.Brent_Oil_Price           -0.884994         0.430252           -2.057           0.040\n",
      "L9.Unemployment_Rate         -3.845682         8.191007           -0.470           0.639\n",
      "L9.GDP_Billion                0.009624         0.013738            0.701           0.484\n",
      "L10.Brent_Oil_Price          -0.144889         0.472953           -0.306           0.759\n",
      "L10.Unemployment_Rate         3.331218         7.974475            0.418           0.676\n",
      "L10.GDP_Billion               0.025638         0.015620            1.641           0.101\n",
      "L11.Brent_Oil_Price           0.128704         0.443595            0.290           0.772\n",
      "L11.Unemployment_Rate        -2.908382         7.868871           -0.370           0.712\n",
      "L11.GDP_Billion              -0.000874         0.017147           -0.051           0.959\n",
      "L12.Brent_Oil_Price          -0.502580         0.333788           -1.506           0.132\n",
      "L12.Unemployment_Rate        -2.916228         8.453793           -0.345           0.730\n",
      "L12.GDP_Billion               0.018275         0.015279            1.196           0.232\n",
      "L13.Brent_Oil_Price           0.543342         0.345005            1.575           0.115\n",
      "L13.Unemployment_Rate        19.288011         8.782376            2.196           0.028\n",
      "L13.GDP_Billion              -0.020025         0.018063           -1.109           0.268\n",
      "L14.Brent_Oil_Price           0.195534         0.330994            0.591           0.555\n",
      "L14.Unemployment_Rate         1.728168         8.644102            0.200           0.842\n",
      "L14.GDP_Billion              -0.003700         0.020288           -0.182           0.855\n",
      "L15.Brent_Oil_Price          -0.004322         0.330220           -0.013           0.990\n",
      "L15.Unemployment_Rate        -5.965848         8.448907           -0.706           0.480\n",
      "L15.GDP_Billion               0.010409         0.018696            0.557           0.578\n",
      "========================================================================================\n",
      "\n",
      "Results for equation Unemployment_Rate\n",
      "========================================================================================\n",
      "                           coefficient       std. error           t-stat            prob\n",
      "----------------------------------------------------------------------------------------\n",
      "const                        -1.216266         1.378888           -0.882           0.378\n",
      "L1.Brent_Oil_Price            0.049636         0.027866            1.781           0.075\n",
      "L1.Unemployment_Rate         -0.720700         0.278742           -2.586           0.010\n",
      "L1.GDP_Billion               -0.002301         0.000940           -2.449           0.014\n",
      "L2.Brent_Oil_Price           -0.004991         0.031793           -0.157           0.875\n",
      "L2.Unemployment_Rate         -0.385047         0.358887           -1.073           0.283\n",
      "L2.GDP_Billion               -0.000432         0.001154           -0.374           0.708\n",
      "L3.Brent_Oil_Price            0.049574         0.024935            1.988           0.047\n",
      "L3.Unemployment_Rate         -0.005151         0.369358           -0.014           0.989\n",
      "L3.GDP_Billion                0.001095         0.001115            0.982           0.326\n",
      "L4.Brent_Oil_Price           -0.030701         0.026225           -1.171           0.242\n",
      "L4.Unemployment_Rate         -0.473759         0.335544           -1.412           0.158\n",
      "L4.GDP_Billion                0.002060         0.001038            1.983           0.047\n",
      "L5.Brent_Oil_Price            0.037858         0.031484            1.202           0.229\n",
      "L5.Unemployment_Rate          0.550201         0.374412            1.470           0.142\n",
      "L5.GDP_Billion                0.002186         0.001236            1.769           0.077\n",
      "L6.Brent_Oil_Price            0.069114         0.036661            1.885           0.059\n",
      "L6.Unemployment_Rate         -0.107816         0.354246           -0.304           0.761\n",
      "L6.GDP_Billion               -0.000674         0.001233           -0.546           0.585\n",
      "L7.Brent_Oil_Price           -0.021540         0.040547           -0.531           0.595\n",
      "L7.Unemployment_Rate         -0.452894         0.342023           -1.324           0.185\n",
      "L7.GDP_Billion                0.001255         0.001202            1.044           0.296\n",
      "L8.Brent_Oil_Price            0.016489         0.037926            0.435           0.664\n",
      "L8.Unemployment_Rate         -0.076284         0.725891           -0.105           0.916\n",
      "L8.GDP_Billion               -0.000296         0.001142           -0.259           0.795\n",
      "L9.Brent_Oil_Price            0.070047         0.038895            1.801           0.072\n",
      "L9.Unemployment_Rate         -0.696249         0.740480           -0.940           0.347\n",
      "L9.GDP_Billion                0.001538         0.001242            1.239           0.216\n",
      "L10.Brent_Oil_Price          -0.011818         0.042756           -0.276           0.782\n",
      "L10.Unemployment_Rate        -0.294515         0.720905           -0.409           0.683\n",
      "L10.GDP_Billion              -0.000626         0.001412           -0.443           0.657\n",
      "L11.Brent_Oil_Price          -0.046899         0.040102           -1.169           0.242\n",
      "L11.Unemployment_Rate         0.003105         0.711358            0.004           0.997\n",
      "L11.GDP_Billion              -0.000757         0.001550           -0.488           0.626\n",
      "L12.Brent_Oil_Price           0.042505         0.030175            1.409           0.159\n",
      "L12.Unemployment_Rate        -0.433709         0.764236           -0.568           0.570\n",
      "L12.GDP_Billion               0.001045         0.001381            0.757           0.449\n",
      "L13.Brent_Oil_Price           0.000321         0.031189            0.010           0.992\n",
      "L13.Unemployment_Rate        -0.096628         0.793940           -0.122           0.903\n",
      "L13.GDP_Billion               0.002876         0.001633            1.762           0.078\n",
      "L14.Brent_Oil_Price           0.000215         0.029922            0.007           0.994\n",
      "L14.Unemployment_Rate        -0.186665         0.781440           -0.239           0.811\n",
      "L14.GDP_Billion              -0.000713         0.001834           -0.389           0.698\n",
      "L15.Brent_Oil_Price           0.056040         0.029852            1.877           0.060\n",
      "L15.Unemployment_Rate        -0.816938         0.763794           -1.070           0.285\n",
      "L15.GDP_Billion              -0.002589         0.001690           -1.532           0.126\n",
      "========================================================================================\n",
      "\n",
      "Results for equation GDP_Billion\n",
      "========================================================================================\n",
      "                           coefficient       std. error           t-stat            prob\n",
      "----------------------------------------------------------------------------------------\n",
      "const                      -271.760329       474.212340           -0.573           0.567\n",
      "L1.Brent_Oil_Price           -5.672202         9.583295           -0.592           0.554\n",
      "L1.Unemployment_Rate         87.908763        95.861818            0.917           0.359\n",
      "L1.GDP_Billion                0.110653         0.323122            0.342           0.732\n",
      "L2.Brent_Oil_Price            2.327406        10.933942            0.213           0.831\n",
      "L2.Unemployment_Rate       -145.239778       123.424616           -1.177           0.239\n",
      "L2.GDP_Billion                0.048044         0.396772            0.121           0.904\n",
      "L3.Brent_Oil_Price           -9.758040         8.575212           -1.138           0.255\n",
      "L3.Unemployment_Rate       -212.296727       127.025667           -1.671           0.095\n",
      "L3.GDP_Billion               -0.546766         0.383330           -1.426           0.154\n",
      "L4.Brent_Oil_Price           14.788912         9.018948            1.640           0.101\n",
      "L4.Unemployment_Rate         24.013931       115.396771            0.208           0.835\n",
      "L4.GDP_Billion               -0.677686         0.357141           -1.898           0.058\n",
      "L5.Brent_Oil_Price           -6.895623        10.827725           -0.637           0.524\n",
      "L5.Unemployment_Rate       -187.938478       128.763659           -1.460           0.144\n",
      "L5.GDP_Billion               -0.542800         0.424951           -1.277           0.201\n",
      "L6.Brent_Oil_Price          -18.308655        12.607949           -1.452           0.146\n",
      "L6.Unemployment_Rate        -68.501189       121.828550           -0.562           0.574\n",
      "L6.GDP_Billion                0.299255         0.424079            0.706           0.480\n",
      "L7.Brent_Oil_Price           18.785761        13.944537            1.347           0.178\n",
      "L7.Unemployment_Rate        -27.025431       117.624783           -0.230           0.818\n",
      "L7.GDP_Billion               -0.002426         0.413231           -0.006           0.995\n",
      "L8.Brent_Oil_Price            2.253361        13.042994            0.173           0.863\n",
      "L8.Unemployment_Rate       -161.572838       249.640877           -0.647           0.517\n",
      "L8.GDP_Billion                0.351945         0.392867            0.896           0.370\n",
      "L9.Brent_Oil_Price           -5.874447        13.376511           -0.439           0.661\n",
      "L9.Unemployment_Rate        307.781729       254.657886            1.209           0.227\n",
      "L9.GDP_Billion               -0.364010         0.427115           -0.852           0.394\n",
      "L10.Brent_Oil_Price          -4.581094        14.704076           -0.312           0.755\n",
      "L10.Unemployment_Rate      -221.322002       247.925931           -0.893           0.372\n",
      "L10.GDP_Billion               0.373556         0.485635            0.769           0.442\n",
      "L11.Brent_Oil_Price          -2.434902        13.791331           -0.177           0.860\n",
      "L11.Unemployment_Rate         8.052468       244.642698            0.033           0.974\n",
      "L11.GDP_Billion               1.199881         0.533112            2.251           0.024\n",
      "L12.Brent_Oil_Price         -18.426186        10.377437           -1.776           0.076\n",
      "L12.Unemployment_Rate       244.483766       262.827887            0.930           0.352\n",
      "L12.GDP_Billion               1.117893         0.475027            2.353           0.019\n",
      "L13.Brent_Oil_Price         -15.427775        10.726187           -1.438           0.150\n",
      "L13.Unemployment_Rate       -94.106526       273.043539           -0.345           0.730\n",
      "L13.GDP_Billion               0.004990         0.561573            0.009           0.993\n",
      "L14.Brent_Oil_Price           1.507400        10.290586            0.146           0.884\n",
      "L14.Unemployment_Rate        12.478000       268.744581            0.046           0.963\n",
      "L14.GDP_Billion               0.330493         0.630744            0.524           0.600\n",
      "L15.Brent_Oil_Price          -5.773537        10.266529           -0.562           0.574\n",
      "L15.Unemployment_Rate       131.136825       262.675985            0.499           0.618\n",
      "L15.GDP_Billion               0.995267         0.581245            1.712           0.087\n",
      "========================================================================================\n",
      "\n",
      "Correlation matrix of residuals\n",
      "                     Brent_Oil_Price  Unemployment_Rate  GDP_Billion\n",
      "Brent_Oil_Price             1.000000          -0.336051     0.585551\n",
      "Unemployment_Rate          -0.336051           1.000000    -0.740550\n",
      "GDP_Billion                 0.585551          -0.740550     1.000000\n",
      "\n",
      "\n",
      "\n",
      "   Brent_Oil_Price  Unemployment_Rate   GDP_Billion\n",
      "0      -111.848898          10.270342  -1516.662062\n",
      "1       -43.283466         -15.177941   7196.071879\n",
      "2       -23.817787          -1.303295  -5375.225432\n",
      "3       -43.390353          15.869572    482.983458\n",
      "4       -87.582724         -16.229936   4719.846095\n",
      "5        37.417324           3.868513  -4076.714295\n",
      "6       174.107662           6.247873   2712.164589\n",
      "7      -245.092227         -32.303720   7302.168135\n",
      "8      -240.197311          37.153648  -9862.127557\n",
      "9       462.668595         -36.550151  18760.007914\n"
     ]
    },
    {
     "name": "stderr",
     "output_type": "stream",
     "text": [
      "c:\\ProgramData\\anaconda3\\Lib\\site-packages\\statsmodels\\tsa\\base\\tsa_model.py:473: ValueWarning: An unsupported index was provided and will be ignored when e.g. forecasting.\n",
      "  self._init_dates(dates, freq)\n"
     ]
    }
   ],
   "source": [
    "from statsmodels.tsa.api import VAR\n",
    "\n",
    "# Ensure all series are stationary (you may have already differenced them)\n",
    "merged_data_diff = merged_data[['Brent_Oil_Price', 'Unemployment_Rate', 'GDP_Billion']].diff().dropna()\n",
    "\n",
    "# Fit the VAR model\n",
    "model = VAR(merged_data_diff)\n",
    "results = model.fit(maxlags=15, ic='aic')\n",
    "print(results.summary())\n",
    "\n",
    "# Forecasting for multiple steps ahead\n",
    "forecast = results.forecast(merged_data_diff.values[-results.k_ar:], steps=10)\n",
    "forecast_df = pd.DataFrame(forecast, columns=['Brent_Oil_Price', 'Unemployment_Rate', 'GDP_Billion'])\n",
    "print(forecast_df)"
   ]
  },
  {
   "cell_type": "markdown",
   "metadata": {},
   "source": [
    "### Markov-Switching ARIMA"
   ]
  },
  {
   "cell_type": "code",
   "execution_count": 147,
   "metadata": {},
   "outputs": [
    {
     "name": "stdout",
     "output_type": "stream",
     "text": [
      "NaN values in Brent_Oil_Price: 0\n",
      "Shape of Brent_Oil_Price: (74,)\n",
      "Data type of Brent_Oil_Price: float64\n",
      "                        Markov Switching Model Results                        \n",
      "==============================================================================\n",
      "Dep. Variable:        Brent_Oil_Price   No. Observations:                   74\n",
      "Model:               MarkovRegression   Log Likelihood                -325.682\n",
      "Date:                Mon, 04 Nov 2024   AIC                            661.364\n",
      "Time:                        15:32:52   BIC                            672.885\n",
      "Sample:                             0   HQIC                           665.960\n",
      "                                 - 74                                         \n",
      "Covariance Type:               approx                                         \n",
      "                             Regime 0 parameters                              \n",
      "==============================================================================\n",
      "                 coef    std err          z      P>|z|      [0.025      0.975]\n",
      "------------------------------------------------------------------------------\n",
      "const         25.7077      2.820      9.116      0.000      20.180      31.235\n",
      "                             Regime 1 parameters                              \n",
      "==============================================================================\n",
      "                 coef    std err          z      P>|z|      [0.025      0.975]\n",
      "------------------------------------------------------------------------------\n",
      "const         85.1150      3.462     24.586      0.000      78.330      91.900\n",
      "                           Non-switching parameters                           \n",
      "==============================================================================\n",
      "                 coef    std err          z      P>|z|      [0.025      0.975]\n",
      "------------------------------------------------------------------------------\n",
      "sigma2       258.9314     45.648      5.672      0.000     169.464     348.399\n",
      "                         Regime transition parameters                         \n",
      "==============================================================================\n",
      "                 coef    std err          z      P>|z|      [0.025      0.975]\n",
      "------------------------------------------------------------------------------\n",
      "p[0->0]        0.9381      0.037     25.682      0.000       0.866       1.010\n",
      "p[1->0]        0.0794      0.048      1.642      0.101      -0.015       0.174\n",
      "==============================================================================\n",
      "\n",
      "Warnings:\n",
      "[1] Covariance matrix calculated using numerical (complex-step) differentiation.\n"
     ]
    }
   ],
   "source": [
    "from statsmodels.tsa.regime_switching.markov_regression import MarkovRegression\n",
    "\n",
    "# Ensure 'Brent_Oil_Price' is numeric and drop NaNs\n",
    "merged_data['Brent_Oil_Price'] = pd.to_numeric(merged_data['Brent_Oil_Price'], errors='coerce')\n",
    "brent_prices = merged_data['Brent_Oil_Price'].dropna()\n",
    "\n",
    "# Check for NaN values\n",
    "print(f\"NaN values in Brent_Oil_Price: {brent_prices.isnull().sum()}\")  # Should be 0\n",
    "\n",
    "# Confirm the shape and type\n",
    "print(f\"Shape of Brent_Oil_Price: {brent_prices.shape}\")  # Should be (n,)\n",
    "print(f\"Data type of Brent_Oil_Price: {brent_prices.dtype}\")  # Should be float64\n",
    "\n",
    "# Fit the Markov-Switching Autoregression model\n",
    "try:\n",
    "    model = MarkovRegression(brent_prices, k_regimes=2, trend='c')\n",
    "    model_fit = model.fit()\n",
    "    print(model_fit.summary())\n",
    "except ValueError as e:\n",
    "    print(f\"ValueError encountered: {e}\")"
   ]
  },
  {
   "cell_type": "markdown",
   "metadata": {},
   "source": [
    "## Long Short-Term Memory (LSTM)"
   ]
  },
  {
   "cell_type": "code",
   "execution_count": null,
   "metadata": {},
   "outputs": [],
   "source": [
    "from keras.models import Sequential\n",
    "from keras.layers import LSTM, Dense\n",
    "from sklearn.preprocessing import MinMaxScaler\n",
    "\n"
   ]
  },
  {
   "cell_type": "markdown",
   "metadata": {},
   "source": [
    " ### Prepare data for LSTM with multiple features"
   ]
  },
  {
   "cell_type": "code",
   "execution_count": 154,
   "metadata": {},
   "outputs": [],
   "source": [
    "# Separate the target column for scaling\n",
    "brent_price = merged_data[['Brent_Oil_Price']]\n",
    "scaler_y = MinMaxScaler(feature_range=(0, 1))\n",
    "scaled_brent_price = scaler_y.fit_transform(brent_price)\n",
    "\n",
    "# Scale other features separately\n",
    "other_features = merged_data[['Unemployment_Rate', 'GDP_Billion']]\n",
    "scaler_other = MinMaxScaler(feature_range=(0, 1))\n",
    "scaled_other_features = scaler_other.fit_transform(other_features)\n",
    "\n",
    "# Re-merge the scaled data\n",
    "scaled_data = np.hstack((scaled_brent_price, scaled_other_features))\n"
   ]
  },
  {
   "cell_type": "markdown",
   "metadata": {},
   "source": [
    "### Create dataset for LSTM"
   ]
  },
  {
   "cell_type": "code",
   "execution_count": 155,
   "metadata": {},
   "outputs": [],
   "source": [
    "def create_dataset(data, time_step=1):\n",
    "    X, Y = [], []\n",
    "    for i in range(len(data) - time_step - 1):\n",
    "        X.append(data[i:(i + time_step), :])\n",
    "        Y.append(data[i + time_step, 0])  # Predicting Brent Oil Price\n",
    "    return np.array(X), np.array(Y)\n",
    "\n",
    "time_step = 10\n",
    "X, y = create_dataset(scaled_data, time_step)\n",
    "X = X.reshape(X.shape[0], X.shape[1], X.shape[2])  # Reshape for LSTM"
   ]
  },
  {
   "cell_type": "markdown",
   "metadata": {},
   "source": [
    "###  Define LSTM model"
   ]
  },
  {
   "cell_type": "code",
   "execution_count": 156,
   "metadata": {},
   "outputs": [
    {
     "name": "stderr",
     "output_type": "stream",
     "text": [
      "C:\\Users\\King Betse\\AppData\\Roaming\\Python\\Python312\\site-packages\\keras\\src\\layers\\rnn\\rnn.py:204: UserWarning: Do not pass an `input_shape`/`input_dim` argument to a layer. When using Sequential models, prefer using an `Input(shape)` object as the first layer in the model instead.\n",
      "  super().__init__(**kwargs)\n"
     ]
    }
   ],
   "source": [
    "model = Sequential()\n",
    "model.add(LSTM(50, return_sequences=True, input_shape=(X.shape[1], X.shape[2])))\n",
    "model.add(LSTM(50, return_sequences=False))\n",
    "model.add(Dense(1))  # Output layer for Brent Oil Price\n",
    "\n",
    "model.compile(optimizer='adam', loss='mean_squared_error')\n"
   ]
  },
  {
   "cell_type": "markdown",
   "metadata": {},
   "source": [
    "### Train the model"
   ]
  },
  {
   "cell_type": "code",
   "execution_count": 158,
   "metadata": {},
   "outputs": [
    {
     "name": "stdout",
     "output_type": "stream",
     "text": [
      "Epoch 1/100\n",
      "\u001b[1m2/2\u001b[0m \u001b[32m━━━━━━━━━━━━━━━━━━━━\u001b[0m\u001b[37m\u001b[0m \u001b[1m0s\u001b[0m 6ms/step - loss: 0.0190 \n",
      "Epoch 2/100\n",
      "\u001b[1m2/2\u001b[0m \u001b[32m━━━━━━━━━━━━━━━━━━━━\u001b[0m\u001b[37m\u001b[0m \u001b[1m0s\u001b[0m 6ms/step - loss: 0.0204 \n",
      "Epoch 3/100\n",
      "\u001b[1m2/2\u001b[0m \u001b[32m━━━━━━━━━━━━━━━━━━━━\u001b[0m\u001b[37m\u001b[0m \u001b[1m0s\u001b[0m 6ms/step - loss: 0.0170 \n",
      "Epoch 4/100\n",
      "\u001b[1m2/2\u001b[0m \u001b[32m━━━━━━━━━━━━━━━━━━━━\u001b[0m\u001b[37m\u001b[0m \u001b[1m0s\u001b[0m 7ms/step - loss: 0.0192 \n",
      "Epoch 5/100\n",
      "\u001b[1m2/2\u001b[0m \u001b[32m━━━━━━━━━━━━━━━━━━━━\u001b[0m\u001b[37m\u001b[0m \u001b[1m0s\u001b[0m 6ms/step - loss: 0.0191 \n",
      "Epoch 6/100\n",
      "\u001b[1m2/2\u001b[0m \u001b[32m━━━━━━━━━━━━━━━━━━━━\u001b[0m\u001b[37m\u001b[0m \u001b[1m0s\u001b[0m 7ms/step - loss: 0.0173 \n",
      "Epoch 7/100\n",
      "\u001b[1m2/2\u001b[0m \u001b[32m━━━━━━━━━━━━━━━━━━━━\u001b[0m\u001b[37m\u001b[0m \u001b[1m0s\u001b[0m 7ms/step - loss: 0.0169 \n",
      "Epoch 8/100\n",
      "\u001b[1m2/2\u001b[0m \u001b[32m━━━━━━━━━━━━━━━━━━━━\u001b[0m\u001b[37m\u001b[0m \u001b[1m0s\u001b[0m 6ms/step - loss: 0.0194 \n",
      "Epoch 9/100\n",
      "\u001b[1m2/2\u001b[0m \u001b[32m━━━━━━━━━━━━━━━━━━━━\u001b[0m\u001b[37m\u001b[0m \u001b[1m0s\u001b[0m 6ms/step - loss: 0.0164 \n",
      "Epoch 10/100\n",
      "\u001b[1m2/2\u001b[0m \u001b[32m━━━━━━━━━━━━━━━━━━━━\u001b[0m\u001b[37m\u001b[0m \u001b[1m0s\u001b[0m 6ms/step - loss: 0.0211 \n",
      "Epoch 11/100\n",
      "\u001b[1m2/2\u001b[0m \u001b[32m━━━━━━━━━━━━━━━━━━━━\u001b[0m\u001b[37m\u001b[0m \u001b[1m0s\u001b[0m 6ms/step - loss: 0.0175 \n",
      "Epoch 12/100\n",
      "\u001b[1m2/2\u001b[0m \u001b[32m━━━━━━━━━━━━━━━━━━━━\u001b[0m\u001b[37m\u001b[0m \u001b[1m0s\u001b[0m 6ms/step - loss: 0.0191 \n",
      "Epoch 13/100\n",
      "\u001b[1m2/2\u001b[0m \u001b[32m━━━━━━━━━━━━━━━━━━━━\u001b[0m\u001b[37m\u001b[0m \u001b[1m0s\u001b[0m 7ms/step - loss: 0.0152 \n",
      "Epoch 14/100\n",
      "\u001b[1m2/2\u001b[0m \u001b[32m━━━━━━━━━━━━━━━━━━━━\u001b[0m\u001b[37m\u001b[0m \u001b[1m0s\u001b[0m 8ms/step - loss: 0.0198 \n",
      "Epoch 15/100\n",
      "\u001b[1m2/2\u001b[0m \u001b[32m━━━━━━━━━━━━━━━━━━━━\u001b[0m\u001b[37m\u001b[0m \u001b[1m0s\u001b[0m 7ms/step - loss: 0.0170 \n",
      "Epoch 16/100\n",
      "\u001b[1m2/2\u001b[0m \u001b[32m━━━━━━━━━━━━━━━━━━━━\u001b[0m\u001b[37m\u001b[0m \u001b[1m0s\u001b[0m 7ms/step - loss: 0.0184 \n",
      "Epoch 17/100\n",
      "\u001b[1m2/2\u001b[0m \u001b[32m━━━━━━━━━━━━━━━━━━━━\u001b[0m\u001b[37m\u001b[0m \u001b[1m0s\u001b[0m 7ms/step - loss: 0.0182 \n",
      "Epoch 18/100\n",
      "\u001b[1m2/2\u001b[0m \u001b[32m━━━━━━━━━━━━━━━━━━━━\u001b[0m\u001b[37m\u001b[0m \u001b[1m0s\u001b[0m 7ms/step - loss: 0.0179 \n",
      "Epoch 19/100\n",
      "\u001b[1m2/2\u001b[0m \u001b[32m━━━━━━━━━━━━━━━━━━━━\u001b[0m\u001b[37m\u001b[0m \u001b[1m0s\u001b[0m 7ms/step - loss: 0.0168 \n",
      "Epoch 20/100\n",
      "\u001b[1m2/2\u001b[0m \u001b[32m━━━━━━━━━━━━━━━━━━━━\u001b[0m\u001b[37m\u001b[0m \u001b[1m0s\u001b[0m 6ms/step - loss: 0.0159 \n",
      "Epoch 21/100\n",
      "\u001b[1m2/2\u001b[0m \u001b[32m━━━━━━━━━━━━━━━━━━━━\u001b[0m\u001b[37m\u001b[0m \u001b[1m0s\u001b[0m 6ms/step - loss: 0.0146 \n",
      "Epoch 22/100\n",
      "\u001b[1m2/2\u001b[0m \u001b[32m━━━━━━━━━━━━━━━━━━━━\u001b[0m\u001b[37m\u001b[0m \u001b[1m0s\u001b[0m 6ms/step - loss: 0.0190 \n",
      "Epoch 23/100\n",
      "\u001b[1m2/2\u001b[0m \u001b[32m━━━━━━━━━━━━━━━━━━━━\u001b[0m\u001b[37m\u001b[0m \u001b[1m0s\u001b[0m 6ms/step - loss: 0.0158 \n",
      "Epoch 24/100\n",
      "\u001b[1m2/2\u001b[0m \u001b[32m━━━━━━━━━━━━━━━━━━━━\u001b[0m\u001b[37m\u001b[0m \u001b[1m0s\u001b[0m 5ms/step - loss: 0.0152 \n",
      "Epoch 25/100\n",
      "\u001b[1m2/2\u001b[0m \u001b[32m━━━━━━━━━━━━━━━━━━━━\u001b[0m\u001b[37m\u001b[0m \u001b[1m0s\u001b[0m 6ms/step - loss: 0.0165 \n",
      "Epoch 26/100\n",
      "\u001b[1m2/2\u001b[0m \u001b[32m━━━━━━━━━━━━━━━━━━━━\u001b[0m\u001b[37m\u001b[0m \u001b[1m0s\u001b[0m 6ms/step - loss: 0.0155 \n",
      "Epoch 27/100\n",
      "\u001b[1m2/2\u001b[0m \u001b[32m━━━━━━━━━━━━━━━━━━━━\u001b[0m\u001b[37m\u001b[0m \u001b[1m0s\u001b[0m 6ms/step - loss: 0.0148 \n",
      "Epoch 28/100\n",
      "\u001b[1m2/2\u001b[0m \u001b[32m━━━━━━━━━━━━━━━━━━━━\u001b[0m\u001b[37m\u001b[0m \u001b[1m0s\u001b[0m 5ms/step - loss: 0.0161 \n",
      "Epoch 29/100\n",
      "\u001b[1m2/2\u001b[0m \u001b[32m━━━━━━━━━━━━━━━━━━━━\u001b[0m\u001b[37m\u001b[0m \u001b[1m0s\u001b[0m 6ms/step - loss: 0.0162 \n",
      "Epoch 30/100\n",
      "\u001b[1m2/2\u001b[0m \u001b[32m━━━━━━━━━━━━━━━━━━━━\u001b[0m\u001b[37m\u001b[0m \u001b[1m0s\u001b[0m 7ms/step - loss: 0.0153 \n",
      "Epoch 31/100\n",
      "\u001b[1m2/2\u001b[0m \u001b[32m━━━━━━━━━━━━━━━━━━━━\u001b[0m\u001b[37m\u001b[0m \u001b[1m0s\u001b[0m 6ms/step - loss: 0.0178 \n",
      "Epoch 32/100\n",
      "\u001b[1m2/2\u001b[0m \u001b[32m━━━━━━━━━━━━━━━━━━━━\u001b[0m\u001b[37m\u001b[0m \u001b[1m0s\u001b[0m 6ms/step - loss: 0.0156 \n",
      "Epoch 33/100\n",
      "\u001b[1m2/2\u001b[0m \u001b[32m━━━━━━━━━━━━━━━━━━━━\u001b[0m\u001b[37m\u001b[0m \u001b[1m0s\u001b[0m 8ms/step - loss: 0.0164 \n",
      "Epoch 34/100\n",
      "\u001b[1m2/2\u001b[0m \u001b[32m━━━━━━━━━━━━━━━━━━━━\u001b[0m\u001b[37m\u001b[0m \u001b[1m0s\u001b[0m 6ms/step - loss: 0.0157 \n",
      "Epoch 35/100\n",
      "\u001b[1m2/2\u001b[0m \u001b[32m━━━━━━━━━━━━━━━━━━━━\u001b[0m\u001b[37m\u001b[0m \u001b[1m0s\u001b[0m 7ms/step - loss: 0.0164 \n",
      "Epoch 36/100\n",
      "\u001b[1m2/2\u001b[0m \u001b[32m━━━━━━━━━━━━━━━━━━━━\u001b[0m\u001b[37m\u001b[0m \u001b[1m0s\u001b[0m 7ms/step - loss: 0.0172 \n",
      "Epoch 37/100\n",
      "\u001b[1m2/2\u001b[0m \u001b[32m━━━━━━━━━━━━━━━━━━━━\u001b[0m\u001b[37m\u001b[0m \u001b[1m0s\u001b[0m 6ms/step - loss: 0.0158 \n",
      "Epoch 38/100\n",
      "\u001b[1m2/2\u001b[0m \u001b[32m━━━━━━━━━━━━━━━━━━━━\u001b[0m\u001b[37m\u001b[0m \u001b[1m0s\u001b[0m 7ms/step - loss: 0.0170 \n",
      "Epoch 39/100\n",
      "\u001b[1m2/2\u001b[0m \u001b[32m━━━━━━━━━━━━━━━━━━━━\u001b[0m\u001b[37m\u001b[0m \u001b[1m0s\u001b[0m 5ms/step - loss: 0.0172 \n",
      "Epoch 40/100\n",
      "\u001b[1m2/2\u001b[0m \u001b[32m━━━━━━━━━━━━━━━━━━━━\u001b[0m\u001b[37m\u001b[0m \u001b[1m0s\u001b[0m 6ms/step - loss: 0.0146 \n",
      "Epoch 41/100\n",
      "\u001b[1m2/2\u001b[0m \u001b[32m━━━━━━━━━━━━━━━━━━━━\u001b[0m\u001b[37m\u001b[0m \u001b[1m0s\u001b[0m 9ms/step - loss: 0.0175 \n",
      "Epoch 42/100\n",
      "\u001b[1m2/2\u001b[0m \u001b[32m━━━━━━━━━━━━━━━━━━━━\u001b[0m\u001b[37m\u001b[0m \u001b[1m0s\u001b[0m 6ms/step - loss: 0.0148 \n",
      "Epoch 43/100\n",
      "\u001b[1m2/2\u001b[0m \u001b[32m━━━━━━━━━━━━━━━━━━━━\u001b[0m\u001b[37m\u001b[0m \u001b[1m0s\u001b[0m 6ms/step - loss: 0.0161 \n",
      "Epoch 44/100\n",
      "\u001b[1m2/2\u001b[0m \u001b[32m━━━━━━━━━━━━━━━━━━━━\u001b[0m\u001b[37m\u001b[0m \u001b[1m0s\u001b[0m 9ms/step - loss: 0.0147 \n",
      "Epoch 45/100\n",
      "\u001b[1m2/2\u001b[0m \u001b[32m━━━━━━━━━━━━━━━━━━━━\u001b[0m\u001b[37m\u001b[0m \u001b[1m0s\u001b[0m 8ms/step - loss: 0.0143 \n",
      "Epoch 46/100\n",
      "\u001b[1m2/2\u001b[0m \u001b[32m━━━━━━━━━━━━━━━━━━━━\u001b[0m\u001b[37m\u001b[0m \u001b[1m0s\u001b[0m 6ms/step - loss: 0.0156 \n",
      "Epoch 47/100\n",
      "\u001b[1m2/2\u001b[0m \u001b[32m━━━━━━━━━━━━━━━━━━━━\u001b[0m\u001b[37m\u001b[0m \u001b[1m0s\u001b[0m 7ms/step - loss: 0.0160 \n",
      "Epoch 48/100\n",
      "\u001b[1m2/2\u001b[0m \u001b[32m━━━━━━━━━━━━━━━━━━━━\u001b[0m\u001b[37m\u001b[0m \u001b[1m0s\u001b[0m 6ms/step - loss: 0.0159 \n",
      "Epoch 49/100\n",
      "\u001b[1m2/2\u001b[0m \u001b[32m━━━━━━━━━━━━━━━━━━━━\u001b[0m\u001b[37m\u001b[0m \u001b[1m0s\u001b[0m 7ms/step - loss: 0.0164 \n",
      "Epoch 50/100\n",
      "\u001b[1m2/2\u001b[0m \u001b[32m━━━━━━━━━━━━━━━━━━━━\u001b[0m\u001b[37m\u001b[0m \u001b[1m0s\u001b[0m 7ms/step - loss: 0.0151 \n",
      "Epoch 51/100\n",
      "\u001b[1m2/2\u001b[0m \u001b[32m━━━━━━━━━━━━━━━━━━━━\u001b[0m\u001b[37m\u001b[0m \u001b[1m0s\u001b[0m 7ms/step - loss: 0.0152 \n",
      "Epoch 52/100\n",
      "\u001b[1m2/2\u001b[0m \u001b[32m━━━━━━━━━━━━━━━━━━━━\u001b[0m\u001b[37m\u001b[0m \u001b[1m0s\u001b[0m 6ms/step - loss: 0.0158 \n",
      "Epoch 53/100\n",
      "\u001b[1m2/2\u001b[0m \u001b[32m━━━━━━━━━━━━━━━━━━━━\u001b[0m\u001b[37m\u001b[0m \u001b[1m0s\u001b[0m 6ms/step - loss: 0.0134 \n",
      "Epoch 54/100\n",
      "\u001b[1m2/2\u001b[0m \u001b[32m━━━━━━━━━━━━━━━━━━━━\u001b[0m\u001b[37m\u001b[0m \u001b[1m0s\u001b[0m 6ms/step - loss: 0.0145 \n",
      "Epoch 55/100\n",
      "\u001b[1m2/2\u001b[0m \u001b[32m━━━━━━━━━━━━━━━━━━━━\u001b[0m\u001b[37m\u001b[0m \u001b[1m0s\u001b[0m 6ms/step - loss: 0.0128 \n",
      "Epoch 56/100\n",
      "\u001b[1m2/2\u001b[0m \u001b[32m━━━━━━━━━━━━━━━━━━━━\u001b[0m\u001b[37m\u001b[0m \u001b[1m0s\u001b[0m 6ms/step - loss: 0.0141 \n",
      "Epoch 57/100\n",
      "\u001b[1m2/2\u001b[0m \u001b[32m━━━━━━━━━━━━━━━━━━━━\u001b[0m\u001b[37m\u001b[0m \u001b[1m0s\u001b[0m 6ms/step - loss: 0.0165 \n",
      "Epoch 58/100\n",
      "\u001b[1m2/2\u001b[0m \u001b[32m━━━━━━━━━━━━━━━━━━━━\u001b[0m\u001b[37m\u001b[0m \u001b[1m0s\u001b[0m 6ms/step - loss: 0.0137 \n",
      "Epoch 59/100\n",
      "\u001b[1m2/2\u001b[0m \u001b[32m━━━━━━━━━━━━━━━━━━━━\u001b[0m\u001b[37m\u001b[0m \u001b[1m0s\u001b[0m 6ms/step - loss: 0.0138 \n",
      "Epoch 60/100\n",
      "\u001b[1m2/2\u001b[0m \u001b[32m━━━━━━━━━━━━━━━━━━━━\u001b[0m\u001b[37m\u001b[0m \u001b[1m0s\u001b[0m 6ms/step - loss: 0.0142 \n",
      "Epoch 61/100\n",
      "\u001b[1m2/2\u001b[0m \u001b[32m━━━━━━━━━━━━━━━━━━━━\u001b[0m\u001b[37m\u001b[0m \u001b[1m0s\u001b[0m 6ms/step - loss: 0.0146 \n",
      "Epoch 62/100\n",
      "\u001b[1m2/2\u001b[0m \u001b[32m━━━━━━━━━━━━━━━━━━━━\u001b[0m\u001b[37m\u001b[0m \u001b[1m0s\u001b[0m 6ms/step - loss: 0.0166 \n",
      "Epoch 63/100\n",
      "\u001b[1m2/2\u001b[0m \u001b[32m━━━━━━━━━━━━━━━━━━━━\u001b[0m\u001b[37m\u001b[0m \u001b[1m0s\u001b[0m 9ms/step - loss: 0.0141 \n",
      "Epoch 64/100\n",
      "\u001b[1m2/2\u001b[0m \u001b[32m━━━━━━━━━━━━━━━━━━━━\u001b[0m\u001b[37m\u001b[0m \u001b[1m0s\u001b[0m 6ms/step - loss: 0.0130 \n",
      "Epoch 65/100\n",
      "\u001b[1m2/2\u001b[0m \u001b[32m━━━━━━━━━━━━━━━━━━━━\u001b[0m\u001b[37m\u001b[0m \u001b[1m0s\u001b[0m 6ms/step - loss: 0.0156 \n",
      "Epoch 66/100\n",
      "\u001b[1m2/2\u001b[0m \u001b[32m━━━━━━━━━━━━━━━━━━━━\u001b[0m\u001b[37m\u001b[0m \u001b[1m0s\u001b[0m 6ms/step - loss: 0.0142 \n",
      "Epoch 67/100\n",
      "\u001b[1m2/2\u001b[0m \u001b[32m━━━━━━━━━━━━━━━━━━━━\u001b[0m\u001b[37m\u001b[0m \u001b[1m0s\u001b[0m 5ms/step - loss: 0.0145 \n",
      "Epoch 68/100\n",
      "\u001b[1m2/2\u001b[0m \u001b[32m━━━━━━━━━━━━━━━━━━━━\u001b[0m\u001b[37m\u001b[0m \u001b[1m0s\u001b[0m 5ms/step - loss: 0.0153 \n",
      "Epoch 69/100\n",
      "\u001b[1m2/2\u001b[0m \u001b[32m━━━━━━━━━━━━━━━━━━━━\u001b[0m\u001b[37m\u001b[0m \u001b[1m0s\u001b[0m 6ms/step - loss: 0.0150 \n",
      "Epoch 70/100\n",
      "\u001b[1m2/2\u001b[0m \u001b[32m━━━━━━━━━━━━━━━━━━━━\u001b[0m\u001b[37m\u001b[0m \u001b[1m0s\u001b[0m 7ms/step - loss: 0.0137 \n",
      "Epoch 71/100\n",
      "\u001b[1m2/2\u001b[0m \u001b[32m━━━━━━━━━━━━━━━━━━━━\u001b[0m\u001b[37m\u001b[0m \u001b[1m0s\u001b[0m 8ms/step - loss: 0.0135 \n",
      "Epoch 72/100\n",
      "\u001b[1m2/2\u001b[0m \u001b[32m━━━━━━━━━━━━━━━━━━━━\u001b[0m\u001b[37m\u001b[0m \u001b[1m0s\u001b[0m 7ms/step - loss: 0.0140 \n",
      "Epoch 73/100\n",
      "\u001b[1m2/2\u001b[0m \u001b[32m━━━━━━━━━━━━━━━━━━━━\u001b[0m\u001b[37m\u001b[0m \u001b[1m0s\u001b[0m 7ms/step - loss: 0.0109 \n",
      "Epoch 74/100\n",
      "\u001b[1m2/2\u001b[0m \u001b[32m━━━━━━━━━━━━━━━━━━━━\u001b[0m\u001b[37m\u001b[0m \u001b[1m0s\u001b[0m 7ms/step - loss: 0.0136 \n",
      "Epoch 75/100\n",
      "\u001b[1m2/2\u001b[0m \u001b[32m━━━━━━━━━━━━━━━━━━━━\u001b[0m\u001b[37m\u001b[0m \u001b[1m0s\u001b[0m 7ms/step - loss: 0.0121 \n",
      "Epoch 76/100\n",
      "\u001b[1m2/2\u001b[0m \u001b[32m━━━━━━━━━━━━━━━━━━━━\u001b[0m\u001b[37m\u001b[0m \u001b[1m0s\u001b[0m 6ms/step - loss: 0.0143 \n",
      "Epoch 77/100\n",
      "\u001b[1m2/2\u001b[0m \u001b[32m━━━━━━━━━━━━━━━━━━━━\u001b[0m\u001b[37m\u001b[0m \u001b[1m0s\u001b[0m 6ms/step - loss: 0.0146 \n",
      "Epoch 78/100\n",
      "\u001b[1m2/2\u001b[0m \u001b[32m━━━━━━━━━━━━━━━━━━━━\u001b[0m\u001b[37m\u001b[0m \u001b[1m0s\u001b[0m 6ms/step - loss: 0.0145 \n",
      "Epoch 79/100\n",
      "\u001b[1m2/2\u001b[0m \u001b[32m━━━━━━━━━━━━━━━━━━━━\u001b[0m\u001b[37m\u001b[0m \u001b[1m0s\u001b[0m 6ms/step - loss: 0.0153 \n",
      "Epoch 80/100\n",
      "\u001b[1m2/2\u001b[0m \u001b[32m━━━━━━━━━━━━━━━━━━━━\u001b[0m\u001b[37m\u001b[0m \u001b[1m0s\u001b[0m 6ms/step - loss: 0.0141 \n",
      "Epoch 81/100\n",
      "\u001b[1m2/2\u001b[0m \u001b[32m━━━━━━━━━━━━━━━━━━━━\u001b[0m\u001b[37m\u001b[0m \u001b[1m0s\u001b[0m 6ms/step - loss: 0.0172 \n",
      "Epoch 82/100\n",
      "\u001b[1m2/2\u001b[0m \u001b[32m━━━━━━━━━━━━━━━━━━━━\u001b[0m\u001b[37m\u001b[0m \u001b[1m0s\u001b[0m 7ms/step - loss: 0.0162 \n",
      "Epoch 83/100\n",
      "\u001b[1m2/2\u001b[0m \u001b[32m━━━━━━━━━━━━━━━━━━━━\u001b[0m\u001b[37m\u001b[0m \u001b[1m0s\u001b[0m 6ms/step - loss: 0.0115 \n",
      "Epoch 84/100\n",
      "\u001b[1m2/2\u001b[0m \u001b[32m━━━━━━━━━━━━━━━━━━━━\u001b[0m\u001b[37m\u001b[0m \u001b[1m0s\u001b[0m 7ms/step - loss: 0.0156 \n",
      "Epoch 85/100\n",
      "\u001b[1m2/2\u001b[0m \u001b[32m━━━━━━━━━━━━━━━━━━━━\u001b[0m\u001b[37m\u001b[0m \u001b[1m0s\u001b[0m 6ms/step - loss: 0.0166 \n",
      "Epoch 86/100\n",
      "\u001b[1m2/2\u001b[0m \u001b[32m━━━━━━━━━━━━━━━━━━━━\u001b[0m\u001b[37m\u001b[0m \u001b[1m0s\u001b[0m 7ms/step - loss: 0.0145 \n",
      "Epoch 87/100\n",
      "\u001b[1m2/2\u001b[0m \u001b[32m━━━━━━━━━━━━━━━━━━━━\u001b[0m\u001b[37m\u001b[0m \u001b[1m0s\u001b[0m 8ms/step - loss: 0.0153 \n",
      "Epoch 88/100\n",
      "\u001b[1m2/2\u001b[0m \u001b[32m━━━━━━━━━━━━━━━━━━━━\u001b[0m\u001b[37m\u001b[0m \u001b[1m0s\u001b[0m 8ms/step - loss: 0.0134 \n",
      "Epoch 89/100\n",
      "\u001b[1m2/2\u001b[0m \u001b[32m━━━━━━━━━━━━━━━━━━━━\u001b[0m\u001b[37m\u001b[0m \u001b[1m0s\u001b[0m 5ms/step - loss: 0.0132 \n",
      "Epoch 90/100\n",
      "\u001b[1m2/2\u001b[0m \u001b[32m━━━━━━━━━━━━━━━━━━━━\u001b[0m\u001b[37m\u001b[0m \u001b[1m0s\u001b[0m 6ms/step - loss: 0.0147 \n",
      "Epoch 91/100\n",
      "\u001b[1m2/2\u001b[0m \u001b[32m━━━━━━━━━━━━━━━━━━━━\u001b[0m\u001b[37m\u001b[0m \u001b[1m0s\u001b[0m 6ms/step - loss: 0.0151 \n",
      "Epoch 92/100\n",
      "\u001b[1m2/2\u001b[0m \u001b[32m━━━━━━━━━━━━━━━━━━━━\u001b[0m\u001b[37m\u001b[0m \u001b[1m0s\u001b[0m 8ms/step - loss: 0.0127 \n",
      "Epoch 93/100\n",
      "\u001b[1m2/2\u001b[0m \u001b[32m━━━━━━━━━━━━━━━━━━━━\u001b[0m\u001b[37m\u001b[0m \u001b[1m0s\u001b[0m 7ms/step - loss: 0.0133 \n",
      "Epoch 94/100\n",
      "\u001b[1m2/2\u001b[0m \u001b[32m━━━━━━━━━━━━━━━━━━━━\u001b[0m\u001b[37m\u001b[0m \u001b[1m0s\u001b[0m 7ms/step - loss: 0.0134 \n",
      "Epoch 95/100\n",
      "\u001b[1m2/2\u001b[0m \u001b[32m━━━━━━━━━━━━━━━━━━━━\u001b[0m\u001b[37m\u001b[0m \u001b[1m0s\u001b[0m 6ms/step - loss: 0.0128 \n",
      "Epoch 96/100\n",
      "\u001b[1m2/2\u001b[0m \u001b[32m━━━━━━━━━━━━━━━━━━━━\u001b[0m\u001b[37m\u001b[0m \u001b[1m0s\u001b[0m 7ms/step - loss: 0.0113 \n",
      "Epoch 97/100\n",
      "\u001b[1m2/2\u001b[0m \u001b[32m━━━━━━━━━━━━━━━━━━━━\u001b[0m\u001b[37m\u001b[0m \u001b[1m0s\u001b[0m 7ms/step - loss: 0.0140 \n",
      "Epoch 98/100\n",
      "\u001b[1m2/2\u001b[0m \u001b[32m━━━━━━━━━━━━━━━━━━━━\u001b[0m\u001b[37m\u001b[0m \u001b[1m0s\u001b[0m 6ms/step - loss: 0.0128 \n",
      "Epoch 99/100\n",
      "\u001b[1m2/2\u001b[0m \u001b[32m━━━━━━━━━━━━━━━━━━━━\u001b[0m\u001b[37m\u001b[0m \u001b[1m0s\u001b[0m 9ms/step - loss: 0.0141 \n",
      "Epoch 100/100\n",
      "\u001b[1m2/2\u001b[0m \u001b[32m━━━━━━━━━━━━━━━━━━━━\u001b[0m\u001b[37m\u001b[0m \u001b[1m0s\u001b[0m 6ms/step - loss: 0.0120 \n",
      "\u001b[1m2/2\u001b[0m \u001b[32m━━━━━━━━━━━━━━━━━━━━\u001b[0m\u001b[37m\u001b[0m \u001b[1m0s\u001b[0m 3ms/step \n"
     ]
    }
   ],
   "source": [
    "model.fit(X, y, epochs=100, batch_size=32)\n",
    "\n",
    "# Make predictions\n",
    "predictions = model.predict(X)\n",
    "predictions = scaler_y.inverse_transform(predictions)  # Inverse transform to get original scale"
   ]
  }
 ],
 "metadata": {
  "kernelspec": {
   "display_name": "base",
   "language": "python",
   "name": "python3"
  },
  "language_info": {
   "codemirror_mode": {
    "name": "ipython",
    "version": 3
   },
   "file_extension": ".py",
   "mimetype": "text/x-python",
   "name": "python",
   "nbconvert_exporter": "python",
   "pygments_lexer": "ipython3",
   "version": "3.12.3"
  }
 },
 "nbformat": 4,
 "nbformat_minor": 2
}
